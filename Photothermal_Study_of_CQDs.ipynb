{
  "nbformat": 4,
  "nbformat_minor": 0,
  "metadata": {
    "colab": {
      "name": "Photothermal Study of CQDs.ipynb",
      "provenance": [],
      "collapsed_sections": [],
      "authorship_tag": "ABX9TyNGyk4fioGqNOJ8piO54Tr2",
      "include_colab_link": true
    },
    "kernelspec": {
      "name": "python3",
      "display_name": "Python 3"
    },
    "language_info": {
      "name": "python"
    }
  },
  "cells": [
    {
      "cell_type": "markdown",
      "metadata": {
        "id": "view-in-github",
        "colab_type": "text"
      },
      "source": [
        "<a href=\"https://colab.research.google.com/github/salarbalou/photothermal_heating/blob/main/Photothermal_Study_of_CQDs.ipynb\" target=\"_parent\"><img src=\"https://colab.research.google.com/assets/colab-badge.svg\" alt=\"Open In Colab\"/></a>"
      ]
    },
    {
      "cell_type": "code",
      "metadata": {
        "id": "ymcrcZvT-azs"
      },
      "source": [
        "import numpy as np\n",
        "import plotly.io as pio\n",
        "pio.templates.default= 'plotly_dark'\n",
        "from plotly.subplots import make_subplots"
      ],
      "execution_count": 1,
      "outputs": []
    },
    {
      "cell_type": "code",
      "metadata": {
        "colab": {
          "base_uri": "https://localhost:8080/"
        },
        "id": "vGrl1Y2BtvLR",
        "outputId": "acf34095-f139-44c0-d198-59af971d9a20"
      },
      "source": [
        "!wget 'https://raw.githubusercontent.com/salarbalou/steadystate_analysis/main/10-21-21-CQD-10x-dc90.txt'"
      ],
      "execution_count": 2,
      "outputs": [
        {
          "output_type": "stream",
          "name": "stdout",
          "text": [
            "--2021-11-23 03:58:16--  https://raw.githubusercontent.com/salarbalou/steadystate_analysis/main/10-21-21-CQD-10x-dc90.txt\n",
            "Resolving raw.githubusercontent.com (raw.githubusercontent.com)... 185.199.108.133, 185.199.109.133, 185.199.110.133, ...\n",
            "Connecting to raw.githubusercontent.com (raw.githubusercontent.com)|185.199.108.133|:443... connected.\n",
            "HTTP request sent, awaiting response... 200 OK\n",
            "Length: 4677 (4.6K) [text/plain]\n",
            "Saving to: ‘10-21-21-CQD-10x-dc90.txt.1’\n",
            "\n",
            "\r          10-21-21-   0%[                    ]       0  --.-KB/s               \r10-21-21-CQD-10x-dc 100%[===================>]   4.57K  --.-KB/s    in 0s      \n",
            "\n",
            "2021-11-23 03:58:16 (32.1 MB/s) - ‘10-21-21-CQD-10x-dc90.txt.1’ saved [4677/4677]\n",
            "\n"
          ]
        }
      ]
    },
    {
      "cell_type": "code",
      "metadata": {
        "id": "eoSKZndet9IS"
      },
      "source": [
        " data = np.loadtxt('https://raw.githubusercontent.com/salarbalou/steadystate_analysis/main/10-21-21-CQD-10x-dc90.txt', delimiter=' , ')\n",
        " data = data[23:]"
      ],
      "execution_count": 3,
      "outputs": []
    },
    {
      "cell_type": "code",
      "metadata": {
        "id": "5sKTzVqX_lzg"
      },
      "source": [
        "#for blue 435nm maxpower=4W laser:\n",
        "m, b = 7.025524475524473, -66.07575757575763\n",
        "# dc is arduino board pwm pin duty cycle\n",
        "dc = np.linspace(10, 150, 15) # at 150 dc we will reach 1W of power for laser"
      ],
      "execution_count": 4,
      "outputs": []
    },
    {
      "cell_type": "code",
      "metadata": {
        "id": "nPxyW_9iA7Lx",
        "colab": {
          "base_uri": "https://localhost:8080/"
        },
        "outputId": "96ee43fe-0f97-4b20-eafd-b3a7bbb850d7"
      },
      "source": [
        "# *** Steady State Analysis ***\n",
        "t = data[:, 0] #time (s)\n",
        "T = data[:, 1] #temperature of the solution (C)\n",
        "Tw = np.full(t.size, 22)#temperature of the environment (C) (needs to be measured by another K type thermocouple) assumed to be constant at 22 C\n",
        "R  = np.gradient(T, t) #gradient of T with respect to time\n",
        "HR = np.max(R) #heating rate\n",
        "Teq = T[np.min(np.where(R<0.01))] #equilibrium temperature (C)\n",
        "teq = t[np.min(np.where(R<0.01))] # time required to reach equilibrium (s)\n",
        "print(f'Reached equilibrium eemperature of {Teq} in {teq} seconds')"
      ],
      "execution_count": 5,
      "outputs": [
        {
          "output_type": "stream",
          "name": "stdout",
          "text": [
            "Reached equilibrium eemperature of 94.14 in 81.0 seconds\n"
          ]
        }
      ]
    },
    {
      "cell_type": "code",
      "metadata": {
        "id": "HATMqL7t01_a"
      },
      "source": [
        "#Iout = #measured using powermeter: f(CCQD, L_laser) (W)\n",
        "#S_PCR_tube = #surface area of the solution at which laser beam is passing through:[PCR_tube, paper] (m**2)\n",
        "#S_paper = #surface are of the paper at which laser beam is covering:[PCR_tube, paper]  (m**2)\n",
        "#m = rho * V #mass of solution (Kg)"
      ],
      "execution_count": 6,
      "outputs": []
    },
    {
      "cell_type": "code",
      "metadata": {
        "id": "kVPHhJTq-vt6"
      },
      "source": [
        "Iin = m*dc + b #input power of the laser: f(dc) (W)\n",
        "h = 1000 #heat transfor coefficient of solution with its surrounding (W/(m**2)*C)\n",
        "\n",
        "rho  = 1000 #density of solution (kg/m**3)\n",
        "V = 1e-8 #volume of the solution (m**3)\n",
        "Cp = 4182 #heat capacity of water (J/Kg*C)"
      ],
      "execution_count": 7,
      "outputs": []
    },
    {
      "cell_type": "code",
      "metadata": {
        "id": "BN0PsA21FbJk"
      },
      "source": [
        "#C = der(T, t[60:]) #cooling rate (C/s) #turning off laser for 60 seconds to measure the cooling rate"
      ],
      "execution_count": 8,
      "outputs": []
    },
    {
      "cell_type": "code",
      "metadata": {
        "id": "CMWM4kPknP6u"
      },
      "source": [
        "r = 0.5 #thermal diffusivity of solution\n",
        "nx = 2\n",
        "x = np.arange(nx)\n",
        "nt = np.int(teq) #temperature rise is evaluated in {t.size} seconds\n",
        "Tplot = np.full(T.size, np.min(Tw))"
      ],
      "execution_count": 68,
      "outputs": []
    },
    {
      "cell_type": "code",
      "metadata": {
        "colab": {
          "base_uri": "https://localhost:8080/",
          "height": 817
        },
        "id": "7fUJeZodm_KO",
        "outputId": "c7b91520-734b-4327-853a-4d06ff26e9ec"
      },
      "source": [
        "fig = make_subplots()\n",
        "fig.add_scatter(x = x, y = Tplot, name = '0 s')\n",
        "for i in range (nt):\n",
        "  Tplot[0] = T[i]\n",
        "  Tplot[-1] = np.min(Tw)\n",
        "  fig.add_scatter(x = np.arange(nx), y = Tplot, name = f'{i} s')\n",
        "fig.update_layout(height = 800, width = 1100)\n",
        "fig.show()"
      ],
      "execution_count": 70,
      "outputs": [
        {
          "output_type": "display_data",
          "data": {
            "text/html": [
              "<html>\n",
              "<head><meta charset=\"utf-8\" /></head>\n",
              "<body>\n",
              "    <div>\n",
              "            <script src=\"https://cdnjs.cloudflare.com/ajax/libs/mathjax/2.7.5/MathJax.js?config=TeX-AMS-MML_SVG\"></script><script type=\"text/javascript\">if (window.MathJax) {MathJax.Hub.Config({SVG: {font: \"STIX-Web\"}});}</script>\n",
              "                <script type=\"text/javascript\">window.PlotlyConfig = {MathJaxConfig: 'local'};</script>\n",
              "        <script src=\"https://cdn.plot.ly/plotly-latest.min.js\"></script>    \n",
              "            <div id=\"07bb84b5-c1b6-4933-a5e3-d8e0d40d1147\" class=\"plotly-graph-div\" style=\"height:800px; width:1100px;\"></div>\n",
              "            <script type=\"text/javascript\">\n",
              "                \n",
              "                    window.PLOTLYENV=window.PLOTLYENV || {};\n",
              "                    \n",
              "                if (document.getElementById(\"07bb84b5-c1b6-4933-a5e3-d8e0d40d1147\")) {\n",
              "                    Plotly.newPlot(\n",
              "                        '07bb84b5-c1b6-4933-a5e3-d8e0d40d1147',\n",
              "                        [{\"name\": \"0 s\", \"type\": \"scatter\", \"x\": [0, 1], \"y\": [100.78, 22.0]}, {\"name\": \"0 s\", \"type\": \"scatter\", \"x\": [0, 1], \"y\": [24.74, 22.0]}, {\"name\": \"1 s\", \"type\": \"scatter\", \"x\": [0, 1], \"y\": [44.9, 22.0]}, {\"name\": \"2 s\", \"type\": \"scatter\", \"x\": [0, 1], \"y\": [55.11, 22.0]}, {\"name\": \"3 s\", \"type\": \"scatter\", \"x\": [0, 1], \"y\": [57.91, 22.0]}, {\"name\": \"4 s\", \"type\": \"scatter\", \"x\": [0, 1], \"y\": [58.93, 22.0]}, {\"name\": \"5 s\", \"type\": \"scatter\", \"x\": [0, 1], \"y\": [60.46, 22.0]}, {\"name\": \"6 s\", \"type\": \"scatter\", \"x\": [0, 1], \"y\": [62.25, 22.0]}, {\"name\": \"7 s\", \"type\": \"scatter\", \"x\": [0, 1], \"y\": [63.78, 22.0]}, {\"name\": \"8 s\", \"type\": \"scatter\", \"x\": [0, 1], \"y\": [65.57, 22.0]}, {\"name\": \"9 s\", \"type\": \"scatter\", \"x\": [0, 1], \"y\": [66.84, 22.0]}, {\"name\": \"10 s\", \"type\": \"scatter\", \"x\": [0, 1], \"y\": [69.14, 22.0]}, {\"name\": \"11 s\", \"type\": \"scatter\", \"x\": [0, 1], \"y\": [70.41, 22.0]}, {\"name\": \"12 s\", \"type\": \"scatter\", \"x\": [0, 1], \"y\": [71.43, 22.0]}, {\"name\": \"13 s\", \"type\": \"scatter\", \"x\": [0, 1], \"y\": [73.73, 22.0]}, {\"name\": \"14 s\", \"type\": \"scatter\", \"x\": [0, 1], \"y\": [75.01, 22.0]}, {\"name\": \"15 s\", \"type\": \"scatter\", \"x\": [0, 1], \"y\": [76.54, 22.0]}, {\"name\": \"16 s\", \"type\": \"scatter\", \"x\": [0, 1], \"y\": [77.05, 22.0]}, {\"name\": \"17 s\", \"type\": \"scatter\", \"x\": [0, 1], \"y\": [78.83, 22.0]}, {\"name\": \"18 s\", \"type\": \"scatter\", \"x\": [0, 1], \"y\": [79.85, 22.0]}, {\"name\": \"19 s\", \"type\": \"scatter\", \"x\": [0, 1], \"y\": [80.62, 22.0]}, {\"name\": \"20 s\", \"type\": \"scatter\", \"x\": [0, 1], \"y\": [81.9, 22.0]}, {\"name\": \"21 s\", \"type\": \"scatter\", \"x\": [0, 1], \"y\": [82.66, 22.0]}, {\"name\": \"22 s\", \"type\": \"scatter\", \"x\": [0, 1], \"y\": [83.68, 22.0]}, {\"name\": \"23 s\", \"type\": \"scatter\", \"x\": [0, 1], \"y\": [84.7, 22.0]}, {\"name\": \"24 s\", \"type\": \"scatter\", \"x\": [0, 1], \"y\": [85.98, 22.0]}, {\"name\": \"25 s\", \"type\": \"scatter\", \"x\": [0, 1], \"y\": [86.74, 22.0]}, {\"name\": \"26 s\", \"type\": \"scatter\", \"x\": [0, 1], \"y\": [87.51, 22.0]}, {\"name\": \"27 s\", \"type\": \"scatter\", \"x\": [0, 1], \"y\": [87.76, 22.0]}, {\"name\": \"28 s\", \"type\": \"scatter\", \"x\": [0, 1], \"y\": [88.27, 22.0]}, {\"name\": \"29 s\", \"type\": \"scatter\", \"x\": [0, 1], \"y\": [89.04, 22.0]}, {\"name\": \"30 s\", \"type\": \"scatter\", \"x\": [0, 1], \"y\": [89.55, 22.0]}, {\"name\": \"31 s\", \"type\": \"scatter\", \"x\": [0, 1], \"y\": [90.57, 22.0]}, {\"name\": \"32 s\", \"type\": \"scatter\", \"x\": [0, 1], \"y\": [91.59, 22.0]}, {\"name\": \"33 s\", \"type\": \"scatter\", \"x\": [0, 1], \"y\": [91.85, 22.0]}, {\"name\": \"34 s\", \"type\": \"scatter\", \"x\": [0, 1], \"y\": [92.1, 22.0]}, {\"name\": \"35 s\", \"type\": \"scatter\", \"x\": [0, 1], \"y\": [93.12, 22.0]}, {\"name\": \"36 s\", \"type\": \"scatter\", \"x\": [0, 1], \"y\": [93.38, 22.0]}, {\"name\": \"37 s\", \"type\": \"scatter\", \"x\": [0, 1], \"y\": [93.89, 22.0]}, {\"name\": \"38 s\", \"type\": \"scatter\", \"x\": [0, 1], \"y\": [94.4, 22.0]}, {\"name\": \"39 s\", \"type\": \"scatter\", \"x\": [0, 1], \"y\": [94.14, 22.0]}, {\"name\": \"40 s\", \"type\": \"scatter\", \"x\": [0, 1], \"y\": [94.91, 22.0]}, {\"name\": \"41 s\", \"type\": \"scatter\", \"x\": [0, 1], \"y\": [94.91, 22.0]}, {\"name\": \"42 s\", \"type\": \"scatter\", \"x\": [0, 1], \"y\": [95.42, 22.0]}, {\"name\": \"43 s\", \"type\": \"scatter\", \"x\": [0, 1], \"y\": [95.93, 22.0]}, {\"name\": \"44 s\", \"type\": \"scatter\", \"x\": [0, 1], \"y\": [95.93, 22.0]}, {\"name\": \"45 s\", \"type\": \"scatter\", \"x\": [0, 1], \"y\": [96.69, 22.0]}, {\"name\": \"46 s\", \"type\": \"scatter\", \"x\": [0, 1], \"y\": [96.95, 22.0]}, {\"name\": \"47 s\", \"type\": \"scatter\", \"x\": [0, 1], \"y\": [97.2, 22.0]}, {\"name\": \"48 s\", \"type\": \"scatter\", \"x\": [0, 1], \"y\": [97.97, 22.0]}, {\"name\": \"49 s\", \"type\": \"scatter\", \"x\": [0, 1], \"y\": [97.2, 22.0]}, {\"name\": \"50 s\", \"type\": \"scatter\", \"x\": [0, 1], \"y\": [97.2, 22.0]}, {\"name\": \"51 s\", \"type\": \"scatter\", \"x\": [0, 1], \"y\": [97.97, 22.0]}, {\"name\": \"52 s\", \"type\": \"scatter\", \"x\": [0, 1], \"y\": [97.97, 22.0]}, {\"name\": \"53 s\", \"type\": \"scatter\", \"x\": [0, 1], \"y\": [97.97, 22.0]}, {\"name\": \"54 s\", \"type\": \"scatter\", \"x\": [0, 1], \"y\": [98.23, 22.0]}, {\"name\": \"55 s\", \"type\": \"scatter\", \"x\": [0, 1], \"y\": [98.48, 22.0]}, {\"name\": \"56 s\", \"type\": \"scatter\", \"x\": [0, 1], \"y\": [98.23, 22.0]}, {\"name\": \"57 s\", \"type\": \"scatter\", \"x\": [0, 1], \"y\": [98.48, 22.0]}, {\"name\": \"58 s\", \"type\": \"scatter\", \"x\": [0, 1], \"y\": [98.99, 22.0]}, {\"name\": \"59 s\", \"type\": \"scatter\", \"x\": [0, 1], \"y\": [99.25, 22.0]}, {\"name\": \"60 s\", \"type\": \"scatter\", \"x\": [0, 1], \"y\": [99.25, 22.0]}, {\"name\": \"61 s\", \"type\": \"scatter\", \"x\": [0, 1], \"y\": [99.25, 22.0]}, {\"name\": \"62 s\", \"type\": \"scatter\", \"x\": [0, 1], \"y\": [100.01, 22.0]}, {\"name\": \"63 s\", \"type\": \"scatter\", \"x\": [0, 1], \"y\": [99.76, 22.0]}, {\"name\": \"64 s\", \"type\": \"scatter\", \"x\": [0, 1], \"y\": [100.01, 22.0]}, {\"name\": \"65 s\", \"type\": \"scatter\", \"x\": [0, 1], \"y\": [100.52, 22.0]}, {\"name\": \"66 s\", \"type\": \"scatter\", \"x\": [0, 1], \"y\": [99.76, 22.0]}, {\"name\": \"67 s\", \"type\": \"scatter\", \"x\": [0, 1], \"y\": [100.27, 22.0]}, {\"name\": \"68 s\", \"type\": \"scatter\", \"x\": [0, 1], \"y\": [100.27, 22.0]}, {\"name\": \"69 s\", \"type\": \"scatter\", \"x\": [0, 1], \"y\": [100.78, 22.0]}, {\"name\": \"70 s\", \"type\": \"scatter\", \"x\": [0, 1], \"y\": [100.52, 22.0]}, {\"name\": \"71 s\", \"type\": \"scatter\", \"x\": [0, 1], \"y\": [100.52, 22.0]}, {\"name\": \"72 s\", \"type\": \"scatter\", \"x\": [0, 1], \"y\": [101.03, 22.0]}, {\"name\": \"73 s\", \"type\": \"scatter\", \"x\": [0, 1], \"y\": [100.78, 22.0]}, {\"name\": \"74 s\", \"type\": \"scatter\", \"x\": [0, 1], \"y\": [100.27, 22.0]}, {\"name\": \"75 s\", \"type\": \"scatter\", \"x\": [0, 1], \"y\": [100.52, 22.0]}, {\"name\": \"76 s\", \"type\": \"scatter\", \"x\": [0, 1], \"y\": [101.54, 22.0]}, {\"name\": \"77 s\", \"type\": \"scatter\", \"x\": [0, 1], \"y\": [101.03, 22.0]}, {\"name\": \"78 s\", \"type\": \"scatter\", \"x\": [0, 1], \"y\": [101.03, 22.0]}, {\"name\": \"79 s\", \"type\": \"scatter\", \"x\": [0, 1], \"y\": [101.29, 22.0]}, {\"name\": \"80 s\", \"type\": \"scatter\", \"x\": [0, 1], \"y\": [100.78, 22.0]}],\n",
              "                        {\"height\": 800, \"template\": {\"data\": {\"bar\": [{\"error_x\": {\"color\": \"#f2f5fa\"}, \"error_y\": {\"color\": \"#f2f5fa\"}, \"marker\": {\"line\": {\"color\": \"rgb(17,17,17)\", \"width\": 0.5}}, \"type\": \"bar\"}], \"barpolar\": [{\"marker\": {\"line\": {\"color\": \"rgb(17,17,17)\", \"width\": 0.5}}, \"type\": \"barpolar\"}], \"carpet\": [{\"aaxis\": {\"endlinecolor\": \"#A2B1C6\", \"gridcolor\": \"#506784\", \"linecolor\": \"#506784\", \"minorgridcolor\": \"#506784\", \"startlinecolor\": \"#A2B1C6\"}, \"baxis\": {\"endlinecolor\": \"#A2B1C6\", \"gridcolor\": \"#506784\", \"linecolor\": \"#506784\", \"minorgridcolor\": \"#506784\", \"startlinecolor\": \"#A2B1C6\"}, \"type\": \"carpet\"}], \"choropleth\": [{\"colorbar\": {\"outlinewidth\": 0, \"ticks\": \"\"}, \"type\": \"choropleth\"}], \"contour\": [{\"colorbar\": {\"outlinewidth\": 0, \"ticks\": \"\"}, \"colorscale\": [[0.0, \"#0d0887\"], [0.1111111111111111, \"#46039f\"], [0.2222222222222222, \"#7201a8\"], [0.3333333333333333, \"#9c179e\"], [0.4444444444444444, \"#bd3786\"], [0.5555555555555556, \"#d8576b\"], [0.6666666666666666, \"#ed7953\"], [0.7777777777777778, \"#fb9f3a\"], [0.8888888888888888, \"#fdca26\"], [1.0, \"#f0f921\"]], \"type\": \"contour\"}], \"contourcarpet\": [{\"colorbar\": {\"outlinewidth\": 0, \"ticks\": \"\"}, \"type\": \"contourcarpet\"}], \"heatmap\": [{\"colorbar\": {\"outlinewidth\": 0, \"ticks\": \"\"}, \"colorscale\": [[0.0, \"#0d0887\"], [0.1111111111111111, \"#46039f\"], [0.2222222222222222, \"#7201a8\"], [0.3333333333333333, \"#9c179e\"], [0.4444444444444444, \"#bd3786\"], [0.5555555555555556, \"#d8576b\"], [0.6666666666666666, \"#ed7953\"], [0.7777777777777778, \"#fb9f3a\"], [0.8888888888888888, \"#fdca26\"], [1.0, \"#f0f921\"]], \"type\": \"heatmap\"}], \"heatmapgl\": [{\"colorbar\": {\"outlinewidth\": 0, \"ticks\": \"\"}, \"colorscale\": [[0.0, \"#0d0887\"], [0.1111111111111111, \"#46039f\"], [0.2222222222222222, \"#7201a8\"], [0.3333333333333333, \"#9c179e\"], [0.4444444444444444, \"#bd3786\"], [0.5555555555555556, \"#d8576b\"], [0.6666666666666666, \"#ed7953\"], [0.7777777777777778, \"#fb9f3a\"], [0.8888888888888888, \"#fdca26\"], [1.0, \"#f0f921\"]], \"type\": \"heatmapgl\"}], \"histogram\": [{\"marker\": {\"colorbar\": {\"outlinewidth\": 0, \"ticks\": \"\"}}, \"type\": \"histogram\"}], \"histogram2d\": [{\"colorbar\": {\"outlinewidth\": 0, \"ticks\": \"\"}, \"colorscale\": [[0.0, \"#0d0887\"], [0.1111111111111111, \"#46039f\"], [0.2222222222222222, \"#7201a8\"], [0.3333333333333333, \"#9c179e\"], [0.4444444444444444, \"#bd3786\"], [0.5555555555555556, \"#d8576b\"], [0.6666666666666666, \"#ed7953\"], [0.7777777777777778, \"#fb9f3a\"], [0.8888888888888888, \"#fdca26\"], [1.0, \"#f0f921\"]], \"type\": \"histogram2d\"}], \"histogram2dcontour\": [{\"colorbar\": {\"outlinewidth\": 0, \"ticks\": \"\"}, \"colorscale\": [[0.0, \"#0d0887\"], [0.1111111111111111, \"#46039f\"], [0.2222222222222222, \"#7201a8\"], [0.3333333333333333, \"#9c179e\"], [0.4444444444444444, \"#bd3786\"], [0.5555555555555556, \"#d8576b\"], [0.6666666666666666, \"#ed7953\"], [0.7777777777777778, \"#fb9f3a\"], [0.8888888888888888, \"#fdca26\"], [1.0, \"#f0f921\"]], \"type\": \"histogram2dcontour\"}], \"mesh3d\": [{\"colorbar\": {\"outlinewidth\": 0, \"ticks\": \"\"}, \"type\": \"mesh3d\"}], \"parcoords\": [{\"line\": {\"colorbar\": {\"outlinewidth\": 0, \"ticks\": \"\"}}, \"type\": \"parcoords\"}], \"pie\": [{\"automargin\": true, \"type\": \"pie\"}], \"scatter\": [{\"marker\": {\"line\": {\"color\": \"#283442\"}}, \"type\": \"scatter\"}], \"scatter3d\": [{\"line\": {\"colorbar\": {\"outlinewidth\": 0, \"ticks\": \"\"}}, \"marker\": {\"colorbar\": {\"outlinewidth\": 0, \"ticks\": \"\"}}, \"type\": \"scatter3d\"}], \"scattercarpet\": [{\"marker\": {\"colorbar\": {\"outlinewidth\": 0, \"ticks\": \"\"}}, \"type\": \"scattercarpet\"}], \"scattergeo\": [{\"marker\": {\"colorbar\": {\"outlinewidth\": 0, \"ticks\": \"\"}}, \"type\": \"scattergeo\"}], \"scattergl\": [{\"marker\": {\"line\": {\"color\": \"#283442\"}}, \"type\": \"scattergl\"}], \"scattermapbox\": [{\"marker\": {\"colorbar\": {\"outlinewidth\": 0, \"ticks\": \"\"}}, \"type\": \"scattermapbox\"}], \"scatterpolar\": [{\"marker\": {\"colorbar\": {\"outlinewidth\": 0, \"ticks\": \"\"}}, \"type\": \"scatterpolar\"}], \"scatterpolargl\": [{\"marker\": {\"colorbar\": {\"outlinewidth\": 0, \"ticks\": \"\"}}, \"type\": \"scatterpolargl\"}], \"scatterternary\": [{\"marker\": {\"colorbar\": {\"outlinewidth\": 0, \"ticks\": \"\"}}, \"type\": \"scatterternary\"}], \"surface\": [{\"colorbar\": {\"outlinewidth\": 0, \"ticks\": \"\"}, \"colorscale\": [[0.0, \"#0d0887\"], [0.1111111111111111, \"#46039f\"], [0.2222222222222222, \"#7201a8\"], [0.3333333333333333, \"#9c179e\"], [0.4444444444444444, \"#bd3786\"], [0.5555555555555556, \"#d8576b\"], [0.6666666666666666, \"#ed7953\"], [0.7777777777777778, \"#fb9f3a\"], [0.8888888888888888, \"#fdca26\"], [1.0, \"#f0f921\"]], \"type\": \"surface\"}], \"table\": [{\"cells\": {\"fill\": {\"color\": \"#506784\"}, \"line\": {\"color\": \"rgb(17,17,17)\"}}, \"header\": {\"fill\": {\"color\": \"#2a3f5f\"}, \"line\": {\"color\": \"rgb(17,17,17)\"}}, \"type\": \"table\"}]}, \"layout\": {\"annotationdefaults\": {\"arrowcolor\": \"#f2f5fa\", \"arrowhead\": 0, \"arrowwidth\": 1}, \"coloraxis\": {\"colorbar\": {\"outlinewidth\": 0, \"ticks\": \"\"}}, \"colorscale\": {\"diverging\": [[0, \"#8e0152\"], [0.1, \"#c51b7d\"], [0.2, \"#de77ae\"], [0.3, \"#f1b6da\"], [0.4, \"#fde0ef\"], [0.5, \"#f7f7f7\"], [0.6, \"#e6f5d0\"], [0.7, \"#b8e186\"], [0.8, \"#7fbc41\"], [0.9, \"#4d9221\"], [1, \"#276419\"]], \"sequential\": [[0.0, \"#0d0887\"], [0.1111111111111111, \"#46039f\"], [0.2222222222222222, \"#7201a8\"], [0.3333333333333333, \"#9c179e\"], [0.4444444444444444, \"#bd3786\"], [0.5555555555555556, \"#d8576b\"], [0.6666666666666666, \"#ed7953\"], [0.7777777777777778, \"#fb9f3a\"], [0.8888888888888888, \"#fdca26\"], [1.0, \"#f0f921\"]], \"sequentialminus\": [[0.0, \"#0d0887\"], [0.1111111111111111, \"#46039f\"], [0.2222222222222222, \"#7201a8\"], [0.3333333333333333, \"#9c179e\"], [0.4444444444444444, \"#bd3786\"], [0.5555555555555556, \"#d8576b\"], [0.6666666666666666, \"#ed7953\"], [0.7777777777777778, \"#fb9f3a\"], [0.8888888888888888, \"#fdca26\"], [1.0, \"#f0f921\"]]}, \"colorway\": [\"#636efa\", \"#EF553B\", \"#00cc96\", \"#ab63fa\", \"#FFA15A\", \"#19d3f3\", \"#FF6692\", \"#B6E880\", \"#FF97FF\", \"#FECB52\"], \"font\": {\"color\": \"#f2f5fa\"}, \"geo\": {\"bgcolor\": \"rgb(17,17,17)\", \"lakecolor\": \"rgb(17,17,17)\", \"landcolor\": \"rgb(17,17,17)\", \"showlakes\": true, \"showland\": true, \"subunitcolor\": \"#506784\"}, \"hoverlabel\": {\"align\": \"left\"}, \"hovermode\": \"closest\", \"mapbox\": {\"style\": \"dark\"}, \"paper_bgcolor\": \"rgb(17,17,17)\", \"plot_bgcolor\": \"rgb(17,17,17)\", \"polar\": {\"angularaxis\": {\"gridcolor\": \"#506784\", \"linecolor\": \"#506784\", \"ticks\": \"\"}, \"bgcolor\": \"rgb(17,17,17)\", \"radialaxis\": {\"gridcolor\": \"#506784\", \"linecolor\": \"#506784\", \"ticks\": \"\"}}, \"scene\": {\"xaxis\": {\"backgroundcolor\": \"rgb(17,17,17)\", \"gridcolor\": \"#506784\", \"gridwidth\": 2, \"linecolor\": \"#506784\", \"showbackground\": true, \"ticks\": \"\", \"zerolinecolor\": \"#C8D4E3\"}, \"yaxis\": {\"backgroundcolor\": \"rgb(17,17,17)\", \"gridcolor\": \"#506784\", \"gridwidth\": 2, \"linecolor\": \"#506784\", \"showbackground\": true, \"ticks\": \"\", \"zerolinecolor\": \"#C8D4E3\"}, \"zaxis\": {\"backgroundcolor\": \"rgb(17,17,17)\", \"gridcolor\": \"#506784\", \"gridwidth\": 2, \"linecolor\": \"#506784\", \"showbackground\": true, \"ticks\": \"\", \"zerolinecolor\": \"#C8D4E3\"}}, \"shapedefaults\": {\"line\": {\"color\": \"#f2f5fa\"}}, \"sliderdefaults\": {\"bgcolor\": \"#C8D4E3\", \"bordercolor\": \"rgb(17,17,17)\", \"borderwidth\": 1, \"tickwidth\": 0}, \"ternary\": {\"aaxis\": {\"gridcolor\": \"#506784\", \"linecolor\": \"#506784\", \"ticks\": \"\"}, \"baxis\": {\"gridcolor\": \"#506784\", \"linecolor\": \"#506784\", \"ticks\": \"\"}, \"bgcolor\": \"rgb(17,17,17)\", \"caxis\": {\"gridcolor\": \"#506784\", \"linecolor\": \"#506784\", \"ticks\": \"\"}}, \"title\": {\"x\": 0.05}, \"updatemenudefaults\": {\"bgcolor\": \"#506784\", \"borderwidth\": 0}, \"xaxis\": {\"automargin\": true, \"gridcolor\": \"#283442\", \"linecolor\": \"#506784\", \"ticks\": \"\", \"title\": {\"standoff\": 15}, \"zerolinecolor\": \"#283442\", \"zerolinewidth\": 2}, \"yaxis\": {\"automargin\": true, \"gridcolor\": \"#283442\", \"linecolor\": \"#506784\", \"ticks\": \"\", \"title\": {\"standoff\": 15}, \"zerolinecolor\": \"#283442\", \"zerolinewidth\": 2}}}, \"width\": 1100, \"xaxis\": {\"anchor\": \"y\", \"domain\": [0.0, 1.0]}, \"yaxis\": {\"anchor\": \"x\", \"domain\": [0.0, 1.0]}},\n",
              "                        {\"responsive\": true}\n",
              "                    ).then(function(){\n",
              "                            \n",
              "var gd = document.getElementById('07bb84b5-c1b6-4933-a5e3-d8e0d40d1147');\n",
              "var x = new MutationObserver(function (mutations, observer) {{\n",
              "        var display = window.getComputedStyle(gd).display;\n",
              "        if (!display || display === 'none') {{\n",
              "            console.log([gd, 'removed!']);\n",
              "            Plotly.purge(gd);\n",
              "            observer.disconnect();\n",
              "        }}\n",
              "}});\n",
              "\n",
              "// Listen for the removal of the full notebook cells\n",
              "var notebookContainer = gd.closest('#notebook-container');\n",
              "if (notebookContainer) {{\n",
              "    x.observe(notebookContainer, {childList: true});\n",
              "}}\n",
              "\n",
              "// Listen for the clearing of the current output cell\n",
              "var outputEl = gd.closest('.output');\n",
              "if (outputEl) {{\n",
              "    x.observe(outputEl, {childList: true});\n",
              "}}\n",
              "\n",
              "                        })\n",
              "                };\n",
              "                \n",
              "            </script>\n",
              "        </div>\n",
              "</body>\n",
              "</html>"
            ]
          },
          "metadata": {}
        }
      ]
    },
    {
      "cell_type": "code",
      "metadata": {
        "id": "3ueSkRjy17VM"
      },
      "source": [
        ""
      ],
      "execution_count": 12,
      "outputs": []
    }
  ]
}