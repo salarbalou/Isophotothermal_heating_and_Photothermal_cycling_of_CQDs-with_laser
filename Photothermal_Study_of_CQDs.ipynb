{
  "nbformat": 4,
  "nbformat_minor": 0,
  "metadata": {
    "colab": {
      "name": "Photothermal Study of CQDs.ipynb",
      "provenance": [],
      "authorship_tag": "ABX9TyMrDsGD+I2t9iS9JOYEEQR4",
      "include_colab_link": true
    },
    "kernelspec": {
      "name": "python3",
      "display_name": "Python 3"
    },
    "language_info": {
      "name": "python"
    }
  },
  "cells": [
    {
      "cell_type": "markdown",
      "metadata": {
        "id": "view-in-github",
        "colab_type": "text"
      },
      "source": [
        "<a href=\"https://colab.research.google.com/github/salarbalou/photothermal_heating/blob/main/Photothermal_Study_of_CQDs.ipynb\" target=\"_parent\"><img src=\"https://colab.research.google.com/assets/colab-badge.svg\" alt=\"Open In Colab\"/></a>"
      ]
    },
    {
      "cell_type": "code",
      "metadata": {
        "id": "ymcrcZvT-azs"
      },
      "source": [
        "import numpy as np\n",
        "import plotly.io as pio\n",
        "pio.templates.default= 'plotly_dark'\n",
        "from plotly.subplots import make_subplots"
      ],
      "execution_count": 1,
      "outputs": []
    },
    {
      "cell_type": "code",
      "metadata": {
        "id": "5sKTzVqX_lzg"
      },
      "source": [
        "#for blue 435nm maxpower=4W laser:\n",
        "m, b = 7.025524475524473, -66.07575757575763\n",
        "# dc is arduino board pwm pin duty cycle\n",
        "dc = np.linspace(10, 150, 15) # at 150 dc we will reach 1W of power for laser"
      ],
      "execution_count": 6,
      "outputs": []
    },
    {
      "cell_type": "code",
      "metadata": {
        "colab": {
          "base_uri": "https://localhost:8080/"
        },
        "id": "LSI_KljwACaZ",
        "outputId": "7fc30520-9c3e-4dec-9cf0-675429fc0e6c"
      },
      "source": [
        "dc"
      ],
      "execution_count": 7,
      "outputs": [
        {
          "output_type": "execute_result",
          "data": {
            "text/plain": [
              "array([ 10.,  20.,  30.,  40.,  50.,  60.,  70.,  80.,  90., 100., 110.,\n",
              "       120., 130., 140., 150.])"
            ]
          },
          "metadata": {},
          "execution_count": 7
        }
      ]
    },
    {
      "cell_type": "code",
      "metadata": {
        "id": "kVPHhJTq-vt6"
      },
      "source": [
        "Iin = m*dc + b"
      ],
      "execution_count": 8,
      "outputs": []
    },
    {
      "cell_type": "code",
      "metadata": {
        "colab": {
          "base_uri": "https://localhost:8080/"
        },
        "id": "fXlFN3goANQn",
        "outputId": "035e471f-cbb8-4b4c-8508-44ce686321c7"
      },
      "source": [
        "Iin"
      ],
      "execution_count": 9,
      "outputs": [
        {
          "output_type": "execute_result",
          "data": {
            "text/plain": [
              "array([  4.17948718,  74.43473193, 144.68997669, 214.94522145,\n",
              "       285.2004662 , 355.45571096, 425.71095571, 495.96620047,\n",
              "       566.22144522, 636.47668998, 706.73193473, 776.98717949,\n",
              "       847.24242424, 917.497669  , 987.75291375])"
            ]
          },
          "metadata": {},
          "execution_count": 9
        }
      ]
    },
    {
      "cell_type": "code",
      "metadata": {
        "id": "tcro4yyVANvA"
      },
      "source": [
        ""
      ],
      "execution_count": null,
      "outputs": []
    }
  ]
}